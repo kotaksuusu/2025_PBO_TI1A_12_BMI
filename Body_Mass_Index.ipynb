{
  "nbformat": 4,
  "nbformat_minor": 0,
  "metadata": {
    "colab": {
      "provenance": [],
      "authorship_tag": "ABX9TyMm3qc3bLmRIBDXNWQ2YE87",
      "include_colab_link": true
    },
    "kernelspec": {
      "name": "python3",
      "display_name": "Python 3"
    },
    "language_info": {
      "name": "python"
    }
  },
  "cells": [
    {
      "cell_type": "markdown",
      "metadata": {
        "id": "view-in-github",
        "colab_type": "text"
      },
      "source": [
        "<a href=\"https://colab.research.google.com/github/kotaksuusu/2025_PBO_TI1A_12_BMI/blob/main/Body_Mass_Index.ipynb\" target=\"_parent\"><img src=\"https://colab.research.google.com/assets/colab-badge.svg\" alt=\"Open In Colab\"/></a>"
      ]
    },
    {
      "cell_type": "code",
      "execution_count": 1,
      "metadata": {
        "colab": {
          "base_uri": "https://localhost:8080/"
        },
        "id": "5dgudU_PuaBS",
        "outputId": "15047457-1167-4ba4-d80a-132c2f726d8d"
      },
      "outputs": [
        {
          "name": "stdout",
          "output_type": "stream",
          "text": [
            "Masukkan berat badan (kg): 67\n",
            "Masukkan tinggi badan (cm): 172\n"
          ]
        }
      ],
      "source": [
        "berat = float(input(\"Masukkan berat badan (kg): \"))\n",
        "tinggi = float(input(\"Masukkan tinggi badan (cm): \"))"
      ]
    }
  ]
}