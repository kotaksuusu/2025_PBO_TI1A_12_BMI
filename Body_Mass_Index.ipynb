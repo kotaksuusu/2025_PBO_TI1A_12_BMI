{
  "nbformat": 4,
  "nbformat_minor": 0,
  "metadata": {
    "colab": {
      "provenance": [],
      "authorship_tag": "ABX9TyPHSApz1IKBiwFTzIX0cIx7",
      "include_colab_link": true
    },
    "kernelspec": {
      "name": "python3",
      "display_name": "Python 3"
    },
    "language_info": {
      "name": "python"
    }
  },
  "cells": [
    {
      "cell_type": "markdown",
      "metadata": {
        "id": "view-in-github",
        "colab_type": "text"
      },
      "source": [
        "<a href=\"https://colab.research.google.com/github/kotaksuusu/2025_PBO_TI1A_12_BMI/blob/main/Body_Mass_Index.ipynb\" target=\"_parent\"><img src=\"https://colab.research.google.com/assets/colab-badge.svg\" alt=\"Open In Colab\"/></a>"
      ]
    },
    {
      "cell_type": "code",
      "execution_count": 2,
      "metadata": {
        "colab": {
          "base_uri": "https://localhost:8080/"
        },
        "id": "5dgudU_PuaBS",
        "outputId": "a7314ae3-13fd-4222-d4b0-af802023f15e"
      },
      "outputs": [
        {
          "name": "stdout",
          "output_type": "stream",
          "text": [
            "Masukkan berat badan (kg): 69\n",
            "Masukkan tinggi badan (cm): 150\n"
          ]
        }
      ],
      "source": [
        "berat = int(input(\"Masukkan berat badan (kg): \"))\n",
        "tinggi = int(input(\"Masukkan tinggi badan (cm): \"))"
      ]
    },
    {
      "cell_type": "code",
      "source": [
        "def hitung_bmi(berat, tinggi):\n",
        "    tinggi_m = tinggi / 100  # Konversi tinggi dari cm ke meter\n",
        "    bmi = berat / (tinggi_m ** 2)  # Rumus BMI\n",
        "    return bmi"
      ],
      "metadata": {
        "id": "-_p3vkuJwfVe"
      },
      "execution_count": 3,
      "outputs": []
    },
    {
      "cell_type": "code",
      "source": [
        "bmi = hitung_bmi(berat, tinggi)"
      ],
      "metadata": {
        "id": "GLC002Y8xj8n"
      },
      "execution_count": 4,
      "outputs": []
    },
    {
      "cell_type": "code",
      "source": [
        "\n",
        "# Klasifikasi BMI\n",
        "if bmi < 18.5:\n",
        "    kategori = \"Kurus (Underweight)\"\n",
        "elif 18.5 <= bmi < 24.9:\n",
        "    kategori = \"Normal\"\n",
        "elif 25 <= bmi < 29.9:\n",
        "    kategori = \"Kelebihan berat badan (Overweight)\"\n",
        "else:\n",
        "    kategori = \"Obesitas\"\n",
        "\n"
      ],
      "metadata": {
        "id": "83kRzoXMxM4h"
      },
      "execution_count": 5,
      "outputs": []
    },
    {
      "cell_type": "code",
      "source": [
        "# Tampilkan hasil\n",
        "print(f\"BMI Anda: {bmi:.2f}\")\n",
        "print(f\"Kategori: {kategori}\")"
      ],
      "metadata": {
        "colab": {
          "base_uri": "https://localhost:8080/"
        },
        "id": "UAZJPYvpflGd",
        "outputId": "be333835-f915-4b60-e8e9-47a7da89e6a3"
      },
      "execution_count": 10,
      "outputs": [
        {
          "output_type": "stream",
          "name": "stdout",
          "text": [
            "BMI Anda: 30.67\n",
            "Kategori: Obesitas\n"
          ]
        }
      ]
    },
    {
      "cell_type": "code",
      "source": [
        "\n",
        "\n",
        "berat = int(input(\"Masukkan berat badan (kg): \"))\n",
        "tinggi = int(input(\"Masukkan tinggi badan (cm): \"))\n",
        "\n",
        "def hitung_bmi(berat, tinggi):\n",
        "    tinggi_m = tinggi / 100\n",
        "    bmi = berat / (tinggi_m ** 2)\n",
        "    return bmi\n",
        "\n",
        "\n",
        "bmi = hitung_bmi(berat, tinggi)\n",
        "\n",
        "# Klasifikasi BMI\n",
        "if bmi < 18.5:\n",
        "    kategori = \"Kurus (Underweight)\"\n",
        "elif 18.5 <= bmi < 24.9:\n",
        "    kategori = \"Normal\"\n",
        "elif 25 <= bmi < 29.9:\n",
        "    kategori = \"Kelebihan berat badan (Overweight)\"\n",
        "else:\n",
        "    kategori = \"Obesitas\"\n",
        "\n",
        "\n",
        "print(f\"BMI Anda: {bmi:.2f}\")\n",
        "print(f\"Kategori: {kategori}\")\n"
      ],
      "metadata": {
        "id": "CVlo7-vTxWak",
        "outputId": "48027bcb-7e75-4add-d0da-b4b69ff27a20",
        "colab": {
          "base_uri": "https://localhost:8080/"
        }
      },
      "execution_count": null,
      "outputs": [
        {
          "output_type": "stream",
          "name": "stdout",
          "text": [
            "Masukkan berat badan (kg): 67\n",
            "Masukkan tinggi badan (cm): 172\n",
            "BMI Anda: 22.65\n",
            "Kategori: Normal\n"
          ]
        }
      ]
    }
  ]
}