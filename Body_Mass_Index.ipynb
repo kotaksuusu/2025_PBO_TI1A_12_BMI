{
  "nbformat": 4,
  "nbformat_minor": 0,
  "metadata": {
    "colab": {
      "provenance": [],
      "authorship_tag": "ABX9TyONjNm1vHSWebsV7r1pcP3B",
      "include_colab_link": true
    },
    "kernelspec": {
      "name": "python3",
      "display_name": "Python 3"
    },
    "language_info": {
      "name": "python"
    }
  },
  "cells": [
    {
      "cell_type": "markdown",
      "metadata": {
        "id": "view-in-github",
        "colab_type": "text"
      },
      "source": [
        "<a href=\"https://colab.research.google.com/github/kotaksuusu/2025_PBO_TI1A_12_BMI/blob/main/Body_Mass_Index.ipynb\" target=\"_parent\"><img src=\"https://colab.research.google.com/assets/colab-badge.svg\" alt=\"Open In Colab\"/></a>"
      ]
    },
    {
      "cell_type": "code",
      "execution_count": 17,
      "metadata": {
        "colab": {
          "base_uri": "https://localhost:8080/"
        },
        "id": "5dgudU_PuaBS",
        "outputId": "0a1a0a3e-f8c0-4b9b-82eb-cd886a7a6528"
      },
      "outputs": [
        {
          "name": "stdout",
          "output_type": "stream",
          "text": [
            "Masukkan berat badan (kg): 45\n",
            "Masukkan tinggi badan (cm): 179\n"
          ]
        }
      ],
      "source": [
        "berat = int(input(\"Masukkan berat badan (kg): \"))\n",
        "tinggi = int(input(\"Masukkan tinggi badan (cm): \"))"
      ]
    },
    {
      "cell_type": "code",
      "source": [
        "def hitung_bmi(berat, tinggi):\n",
        "    tinggi_m = tinggi / 100  # Konversi tinggi dari cm ke meter\n",
        "    bmi = berat / (tinggi_m ** 2)  # Rumus BMI\n",
        "    return bmi"
      ],
      "metadata": {
        "id": "-_p3vkuJwfVe"
      },
      "execution_count": 18,
      "outputs": []
    },
    {
      "cell_type": "code",
      "source": [
        "bmi = hitung_bmi(berat, tinggi)"
      ],
      "metadata": {
        "id": "GLC002Y8xj8n"
      },
      "execution_count": 19,
      "outputs": []
    },
    {
      "cell_type": "code",
      "source": [
        "\n",
        "# Klasifikasi BMI\n",
        "if bmi < 18.5:\n",
        "    kategori = \"Kurus (Underweight)\"\n",
        "elif 18.5 <= bmi < 24.9:\n",
        "    kategori = \"Normal\"\n",
        "elif 25 <= bmi < 29.9:\n",
        "    kategori = \"Kelebihan berat badan (Overweight)\"\n",
        "else:\n",
        "    kategori = \"Obesitas\"\n",
        "\n",
        "# Tampilkan hasil\n",
        "print(f\"BMI Anda: {bmi:.2f}\")\n",
        "print(f\"Kategori: {kategori}\")"
      ],
      "metadata": {
        "id": "83kRzoXMxM4h",
        "outputId": "6869435b-6281-4958-8a9e-c8cb7fd23546",
        "colab": {
          "base_uri": "https://localhost:8080/"
        }
      },
      "execution_count": 20,
      "outputs": [
        {
          "output_type": "stream",
          "name": "stdout",
          "text": [
            "BMI Anda: 14.04\n",
            "Kategori: Kurus (Underweight)\n"
          ]
        }
      ]
    },
    {
      "cell_type": "code",
      "source": [
        "\n",
        "# Input dari pengguna\n",
        "berat = int(input(\"Masukkan berat badan (kg): \"))\n",
        "tinggi = int(input(\"Masukkan tinggi badan (cm): \"))\n",
        "\n",
        "def hitung_bmi(berat, tinggi):\n",
        "    tinggi_m = tinggi / 100  # Konversi tinggi dari cm ke meter\n",
        "    bmi = berat / (tinggi_m ** 2)  # Rumus BMI\n",
        "    return bmi\n",
        "\n",
        "# Hitung BMI\n",
        "bmi = hitung_bmi(berat, tinggi)\n",
        "\n",
        "# Klasifikasi BMI\n",
        "if bmi < 18.5:\n",
        "    kategori = \"Kurus (Underweight)\"\n",
        "elif 18.5 <= bmi < 24.9:\n",
        "    kategori = \"Normal\"\n",
        "elif 25 <= bmi < 29.9:\n",
        "    kategori = \"Kelebihan berat badan (Overweight)\"\n",
        "else:\n",
        "    kategori = \"Obesitas\"\n",
        "\n",
        "# Tampilkan hasil\n",
        "print(f\"BMI Anda: {bmi:.2f}\")\n",
        "print(f\"Kategori: {kategori}\")\n"
      ],
      "metadata": {
        "id": "CVlo7-vTxWak",
        "outputId": "48027bcb-7e75-4add-d0da-b4b69ff27a20",
        "colab": {
          "base_uri": "https://localhost:8080/"
        }
      },
      "execution_count": 11,
      "outputs": [
        {
          "output_type": "stream",
          "name": "stdout",
          "text": [
            "Masukkan berat badan (kg): 67\n",
            "Masukkan tinggi badan (cm): 172\n",
            "BMI Anda: 22.65\n",
            "Kategori: Normal\n"
          ]
        }
      ]
    }
  ]
}